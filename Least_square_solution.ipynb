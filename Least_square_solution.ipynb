{
  "nbformat": 4,
  "nbformat_minor": 0,
  "metadata": {
    "colab": {
      "provenance": [],
      "authorship_tag": "ABX9TyPJMbfb++AOjtZdszcal8ry",
      "include_colab_link": true
    },
    "kernelspec": {
      "name": "python3",
      "display_name": "Python 3"
    },
    "language_info": {
      "name": "python"
    }
  },
  "cells": [
    {
      "cell_type": "markdown",
      "metadata": {
        "id": "view-in-github",
        "colab_type": "text"
      },
      "source": [
        "<a href=\"https://colab.research.google.com/github/PrasopchokGot/MathHobby/blob/main/Least_square_solution.ipynb\" target=\"_parent\"><img src=\"https://colab.research.google.com/assets/colab-badge.svg\" alt=\"Open In Colab\"/></a>"
      ]
    },
    {
      "cell_type": "markdown",
      "source": [
        "# Least square solution"
      ],
      "metadata": {
        "id": "WWyzbETxGcBs"
      }
    },
    {
      "cell_type": "markdown",
      "source": [
        "$$ \\begin{align}\n",
        "(A^TA)x_{ls} &= A^Ty \\\\\n",
        "x_{ls} &= (A^TA)^{-1}A^Ty\n",
        "\\end{align}$$\n",
        "$$ $$"
      ],
      "metadata": {
        "id": "lO6Wp2xFj1WW"
      }
    },
    {
      "cell_type": "code",
      "execution_count": null,
      "metadata": {
        "id": "BVLqdtHNEK-X"
      },
      "outputs": [],
      "source": [
        "import numpy as np"
      ]
    },
    {
      "cell_type": "code",
      "source": [
        "A = np.array([[1, 1], [0, 1], [0, 0]])\n",
        "y = np.array([1, 0, 1])"
      ],
      "metadata": {
        "id": "he0304GSErA9"
      },
      "execution_count": null,
      "outputs": []
    },
    {
      "cell_type": "code",
      "source": [
        "x_ls1 = (np.linalg.inv((A.transpose()@A)))@A.transpose()@y.transpose()\n",
        "x_ls1"
      ],
      "metadata": {
        "colab": {
          "base_uri": "https://localhost:8080/"
        },
        "id": "6q9EfsybHS8T",
        "outputId": "fed8775b-3fbc-41b7-8ef8-eead01355fec"
      },
      "execution_count": null,
      "outputs": [
        {
          "output_type": "execute_result",
          "data": {
            "text/plain": [
              "array([1., 0.])"
            ]
          },
          "metadata": {},
          "execution_count": 49
        }
      ]
    },
    {
      "cell_type": "code",
      "source": [
        "x_ls2 = np.linalg.lstsq(A, y, rcond=None)[0]\n",
        "x_ls2"
      ],
      "metadata": {
        "colab": {
          "base_uri": "https://localhost:8080/"
        },
        "id": "pwgIzqJ8FEnF",
        "outputId": "47581a4a-f0ce-45f8-cfbb-cf0d3c817e0b"
      },
      "execution_count": null,
      "outputs": [
        {
          "output_type": "execute_result",
          "data": {
            "text/plain": [
              "array([ 1.00000000e+00, -1.20292797e-16])"
            ]
          },
          "metadata": {},
          "execution_count": 50
        }
      ]
    },
    {
      "cell_type": "markdown",
      "source": [
        "# Least square solution by QR factorization "
      ],
      "metadata": {
        "id": "s2iuVeETHP0h"
      }
    },
    {
      "cell_type": "markdown",
      "source": [
        "$$ \\begin{align}\n",
        "A = QR ⟹ x_{ls} &= (A^TA)^{-1}A^Ty=(R^{-1}Q^{-1}QR)R^TQ^Ty=R^TQ^Ty \\\\\n",
        "x_{ls} &=R^TQ^Ty\n",
        "\\end{align}$$\n",
        "$$ $$"
      ],
      "metadata": {
        "id": "Rg79wA5Ek4CK"
      }
    },
    {
      "cell_type": "code",
      "source": [
        "Q, R = np.linalg.qr(A)"
      ],
      "metadata": {
        "id": "tBz-u5njKn9F"
      },
      "execution_count": null,
      "outputs": []
    },
    {
      "cell_type": "code",
      "source": [
        "Q"
      ],
      "metadata": {
        "colab": {
          "base_uri": "https://localhost:8080/"
        },
        "id": "3lmgRgeuKw-4",
        "outputId": "cbf34681-429d-4b98-fe9b-d4a9e62cb40c"
      },
      "execution_count": null,
      "outputs": [
        {
          "output_type": "execute_result",
          "data": {
            "text/plain": [
              "array([[1., 0.],\n",
              "       [0., 1.],\n",
              "       [0., 0.]])"
            ]
          },
          "metadata": {},
          "execution_count": 54
        }
      ]
    },
    {
      "cell_type": "code",
      "source": [
        "R"
      ],
      "metadata": {
        "colab": {
          "base_uri": "https://localhost:8080/"
        },
        "id": "q0sHH1WBKxTs",
        "outputId": "975486d3-d3ab-4fa8-bf96-039b04cc0f22"
      },
      "execution_count": null,
      "outputs": [
        {
          "output_type": "execute_result",
          "data": {
            "text/plain": [
              "array([[1., 1.],\n",
              "       [0., 1.]])"
            ]
          },
          "metadata": {},
          "execution_count": 55
        }
      ]
    },
    {
      "cell_type": "code",
      "source": [
        "x_ls3 = np.linalg.inv(R)@Q.transpose()@y.transpose()\n",
        "x_ls3"
      ],
      "metadata": {
        "colab": {
          "base_uri": "https://localhost:8080/"
        },
        "id": "i9AJoC5uKxgv",
        "outputId": "e5293293-ee28-4809-8d12-e3844fd13345"
      },
      "execution_count": null,
      "outputs": [
        {
          "output_type": "execute_result",
          "data": {
            "text/plain": [
              "array([1., 0.])"
            ]
          },
          "metadata": {},
          "execution_count": 58
        }
      ]
    }
  ]
}